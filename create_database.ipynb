{
 "cells": [
  {
   "cell_type": "code",
   "execution_count": 1,
   "metadata": {
    "collapsed": true
   },
   "outputs": [],
   "source": [
    "import os\n",
    "import pandas as pd\n",
    "import re"
   ]
  },
  {
   "cell_type": "code",
   "execution_count": 2,
   "metadata": {
    "collapsed": true
   },
   "outputs": [],
   "source": [
    "LOCAL_PATH = '/Users/jacob/Downloads/hackathon/'"
   ]
  },
  {
   "cell_type": "code",
   "execution_count": 3,
   "metadata": {
    "collapsed": true
   },
   "outputs": [],
   "source": [
    "def list_file_paths(path, extension='.tif'):\n",
    "    \"\"\"List the file paths for every file ending with `extension` in directory `path`\"\"\"\n",
    "    file_paths = []\n",
    "    \n",
    "    for (dir_path, _, file_names) in os.walk(path):\n",
    "        \n",
    "        relative_path = dir_path.replace(path, '')\n",
    "        file_path = [os.path.join(relative_path, file_name) for file_name in file_names\n",
    "                     if file_name.endswith(extension)]\n",
    "\n",
    "        file_paths.extend(file_path)\n",
    "\n",
    "    return file_paths"
   ]
  },
  {
   "cell_type": "code",
   "execution_count": 4,
   "metadata": {
    "collapsed": true
   },
   "outputs": [],
   "source": [
    "pd.DataFrame(\n",
    "    list(map(lambda x: '/'.join(x.split('/')[:-1]), \n",
    "             list_file_paths(LOCAL_PATH + 'Streamline process/measured/') +\n",
    "             list_file_paths(LOCAL_PATH + 'Search engine/test/')\n",
    "            ))).drop_duplicates().to_csv('folder_names.csv', index=False)"
   ]
  },
  {
   "cell_type": "code",
   "execution_count": 5,
   "metadata": {
    "collapsed": true
   },
   "outputs": [],
   "source": [
    "folder_metadata = pd.read_csv('data/folder_taxa_specimen_tissue.csv')"
   ]
  },
  {
   "cell_type": "code",
   "execution_count": 6,
   "metadata": {
    "collapsed": true
   },
   "outputs": [],
   "source": [
    "def merge_metadata(path):\n",
    "    d = pd.DataFrame(list_file_paths(LOCAL_PATH + path), columns=['path'])\n",
    "    d['folder'] = d.path.apply(lambda x: '/'.join(x.split('/')[:-1]))\n",
    "    d.path = path + d.path\n",
    "    d = d.merge(folder_metadata, on='folder')\n",
    "    d.drop('folder', 1, inplace=True)\n",
    "    return d"
   ]
  },
  {
   "cell_type": "code",
   "execution_count": 8,
   "metadata": {
    "collapsed": true
   },
   "outputs": [],
   "source": [
    "pd.concat([merge_metadata('Search engine/test/'), merge_metadata('Streamline process/measured/')])\\\n",
    "    .to_csv('data/image_database.csv', index=False)"
   ]
  }
 ],
 "metadata": {
  "kernelspec": {
   "display_name": "Python 3",
   "language": "python",
   "name": "python3"
  },
  "language_info": {
   "codemirror_mode": {
    "name": "ipython",
    "version": 3
   },
   "file_extension": ".py",
   "mimetype": "text/x-python",
   "name": "python",
   "nbconvert_exporter": "python",
   "pygments_lexer": "ipython3",
   "version": "3.6.1"
  },
  "toc": {
   "colors": {
    "hover_highlight": "#DAA520",
    "navigate_num": "#000000",
    "navigate_text": "#333333",
    "running_highlight": "#FF0000",
    "selected_highlight": "#FFD700",
    "sidebar_border": "#EEEEEE",
    "wrapper_background": "#FFFFFF"
   },
   "moveMenuLeft": true,
   "nav_menu": {
    "height": "12px",
    "width": "252px"
   },
   "navigate_menu": true,
   "number_sections": false,
   "sideBar": true,
   "threshold": 4,
   "toc_cell": true,
   "toc_section_display": "block",
   "toc_window_display": false,
   "widenNotebook": false
  }
 },
 "nbformat": 4,
 "nbformat_minor": 2
}
